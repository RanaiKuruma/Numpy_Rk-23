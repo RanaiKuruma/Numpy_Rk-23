{
 "cells": [
  {
   "cell_type": "markdown",
   "metadata": {},
   "source": [
    "## Saving Files with NumPy"
   ]
  },
  {
   "cell_type": "code",
   "execution_count": null,
   "metadata": {},
   "outputs": [],
   "source": [
    "import numpy as np "
   ]
  },
  {
   "cell_type": "markdown",
   "metadata": {},
   "source": [
    "### np.save()"
   ]
  },
  {
   "cell_type": "code",
   "execution_count": null,
   "metadata": {},
   "outputs": [],
   "source": [
    "lending_co = np.genfromtxt('Lending-Company-Saving.csv', delimiter = ',', dtype= np.str_)\n",
    "lending_co "
   ]
  },
  {
   "cell_type": "code",
   "execution_count": null,
   "metadata": {},
   "outputs": [],
   "source": [
    "# np.save(\"file_name\", dataset_variable)\n",
    "# NPY is a special type of text file native to numpy \n",
    "# NPY is much faster \n",
    "# NPY files take up way less memory space \n",
    "# NPY vs CSV \n",
    "# Faster to work with \n",
    "# More Compact \n",
    "# CSV (and other text files) are still extremely useful when preprocessing and analyzing data with other libraries(or programming languages)\n",
    "np.save(\"Lending-Company-Saving\", lending_co)"
   ]
  },
  {
   "cell_type": "code",
   "execution_count": null,
   "metadata": {},
   "outputs": [],
   "source": [
    "# load a dataset is not equal to import a dataset \n",
    "# Importing does not keep track of the datatype of the original array \n",
    "# So you might need to specify the values after having them brought in Python \n",
    "# When loading we do not need to specify or change our data while working with our Python object."
   ]
  },
  {
   "cell_type": "code",
   "execution_count": null,
   "metadata": {
    "scrolled": true
   },
   "outputs": [],
   "source": [
    "lending_data_save = np.load(\"Lending-Company-Saving.npy\")\n",
    "lending_data_save"
   ]
  },
  {
   "cell_type": "code",
   "execution_count": null,
   "metadata": {},
   "outputs": [],
   "source": [
    "np.array_equal(lending_data_save, lending_co)"
   ]
  },
  {
   "cell_type": "markdown",
   "metadata": {},
   "source": [
    "### np.savez()"
   ]
  },
  {
   "cell_type": "code",
   "execution_count": null,
   "metadata": {},
   "outputs": [],
   "source": [
    "#The NPZ is like an archive of NPY that can store multiple arrays \n",
    "#Instead of storing different datasets in seperate NPY files you can store all of them in a single NPZ \n",
    "# Useful when working with large amounts of data \n",
    "lending_co = np.genfromtxt('lending-co-LT.csv', delimiter = ',' , dtype = np.str_)\n",
    "lending_data_save = np.load('Lending-Company-Saving.npy')"
   ]
  },
  {
   "cell_type": "code",
   "execution_count": null,
   "metadata": {},
   "outputs": [],
   "source": [
    "np.savez(\"Lending-Company-Saving\", lending_co, lending_data_save)\n",
    "lending_data_savez = np.load('Lending-Company-Saving.npz')"
   ]
  },
  {
   "cell_type": "code",
   "execution_count": null,
   "metadata": {},
   "outputs": [],
   "source": [
    "print(lending_data_savez)\n",
    "#To pull the array from the archive \n",
    "print(lending_data_savez[\"arr0\"])"
   ]
  },
  {
   "cell_type": "code",
   "execution_count": null,
   "metadata": {},
   "outputs": [],
   "source": [
    "np.savez(\"Lending-Company-Saving\", company = lending_co, data_save = lending_data_save)"
   ]
  },
  {
   "cell_type": "code",
   "execution_count": null,
   "metadata": {},
   "outputs": [],
   "source": [
    "lending_data_savez = np.load(\"Lending-Company-Saving.npz\")"
   ]
  },
  {
   "cell_type": "code",
   "execution_count": null,
   "metadata": {},
   "outputs": [],
   "source": [
    "lending_data_savez.files "
   ]
  },
  {
   "cell_type": "code",
   "execution_count": null,
   "metadata": {},
   "outputs": [],
   "source": [
    "np.array_equal(lending_data_savez[\"company\"], lending_data_savez[\"data_save\"])"
   ]
  },
  {
   "cell_type": "markdown",
   "metadata": {},
   "source": [
    "### np.savetxt()"
   ]
  },
  {
   "cell_type": "code",
   "execution_count": null,
   "metadata": {},
   "outputs": [],
   "source": [
    "lending_co = np.genfromtxt('lending-co-LT.csv', delimiter = ',' , dtype = np.str_)"
   ]
  },
  {
   "cell_type": "code",
   "execution_count": null,
   "metadata": {},
   "outputs": [],
   "source": [
    "#np.savetxt() helps store NumPy datasets in text files (.txt or .csv)\n",
    "#np.savetxt() requires importing the file "
   ]
  },
  {
   "cell_type": "code",
   "execution_count": null,
   "metadata": {
    "scrolled": true
   },
   "outputs": [],
   "source": [
    "np.savetxt(\"Lending-Company-Saving.txt\", lending_co, fmt = '%s', delimiter = ',')"
   ]
  },
  {
   "cell_type": "code",
   "execution_count": null,
   "metadata": {},
   "outputs": [],
   "source": [
    "lending_data_savetxt = np.genfromtxt(\"Lending-Company-Saving.txt\", delimiter = ',', dtype = np.str)\n",
    "print(lending_data_savetxt)"
   ]
  },
  {
   "cell_type": "code",
   "execution_count": null,
   "metadata": {
    "scrolled": true
   },
   "outputs": [],
   "source": []
  }
 ],
 "metadata": {
  "kernelspec": {
   "display_name": "Python 3",
   "language": "python",
   "name": "python3"
  },
  "language_info": {
   "codemirror_mode": {
    "name": "ipython",
    "version": 3
   },
   "file_extension": ".py",
   "mimetype": "text/x-python",
   "name": "python",
   "nbconvert_exporter": "python",
   "pygments_lexer": "ipython3",
   "version": "3.9.13"
  }
 },
 "nbformat": 4,
 "nbformat_minor": 2
}
